{
 "cells": [
  {
   "cell_type": "markdown",
   "metadata": {},
   "source": [
    "<center>\n",
    "# Community\n",
    "</center>\n",
    "***"
   ]
  },
  {
   "cell_type": "markdown",
   "metadata": {},
   "source": [
    "<div style='margin-top: 3em; margin-bottom: 3em;'>\n",
    "</div>\n",
    "\n",
    "The brightwind python library for wind analysis aims to **empower wind resource analysts** and establish a **common industry standard toolset**. To achieve this we need to build an active community around developing and maintaining the library. To answer users questions, teach others how to use it and show them how powerful python can be for wind analysis.\n",
    "\n",
    "***"
   ]
  },
  {
   "cell_type": "markdown",
   "metadata": {},
   "source": [
    "<div style='margin-top: 3em; margin-bottom: 3em;'>\n",
    "</div>\n",
    "\n",
    "## Getting involved\n",
    "\n",
    "There are several ways to contribute and get involved. \n",
    "\n",
    "- The simplest is to just use it and give feedback. You can post queries, bugs or improvements on the [issue log](https://github.com/brightwind-dev/brightwind/issues) of the brightwind GitHub repository.\n",
    "\n",
    "\n",
    "- The \n",
    "\n",
    "\n",
    "\n",
    "\n",
    "\n",
    "If you wish to be involved or find out more please contact stephen@brightwindanalysis.com.\n",
    "\n",
    "Most contributors use the PyCharm IDE and follow the built in PyCharm code style.\n",
    "\n",
    "## Heading 2\n",
    "\n",
    "- [Getting beta versions](tutorials/getting_beta_versions.ipynb)\n",
    "\n",
    "- Use a [template tutorial](tutorials/template_tutorial.ipynb) to create a new tutorial.\n",
    "\n",
    "## Heading 3\n",
    "\n",
    "I'll write something here as a place holder.\n"
   ]
  },
  {
   "cell_type": "code",
   "execution_count": null,
   "metadata": {
    "collapsed": true
   },
   "outputs": [],
   "source": []
  }
 ],
 "metadata": {
  "kernelspec": {
   "display_name": "Python 3",
   "language": "python",
   "name": "python3"
  },
  "language_info": {
   "codemirror_mode": {
    "name": "ipython",
    "version": 3
   },
   "file_extension": ".py",
   "mimetype": "text/x-python",
   "name": "python",
   "nbconvert_exporter": "python",
   "pygments_lexer": "ipython3",
   "version": "3.7.3"
  }
 },
 "nbformat": 4,
 "nbformat_minor": 2
}
